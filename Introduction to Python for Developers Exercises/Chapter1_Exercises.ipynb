{
  "nbformat": 4,
  "nbformat_minor": 0,
  "metadata": {
    "colab": {
      "provenance": []
    },
    "kernelspec": {
      "name": "python3",
      "display_name": "Python 3"
    },
    "language_info": {
      "name": "python"
    }
  },
  "cells": [
    {
      "cell_type": "markdown",
      "source": [
        "#Chapter 1"
      ],
      "metadata": {
        "id": "ZKnEvxay8nnD"
      }
    },
    {
      "cell_type": "markdown",
      "source": [
        "##Exercise 1"
      ],
      "metadata": {
        "id": "wU8h_0dk9r-R"
      }
    },
    {
      "cell_type": "code",
      "source": [
        "# Replace ____ below to display \"Learning Python\"\n",
        "print(\"Learning Python\")"
      ],
      "metadata": {
        "colab": {
          "base_uri": "https://localhost:8080/"
        },
        "id": "zAZ5q2uQ8pE-",
        "outputId": "e33413c5-b68a-4e7c-f57e-30074966192a"
      },
      "execution_count": 1,
      "outputs": [
        {
          "output_type": "stream",
          "name": "stdout",
          "text": [
            "Learning Python\n"
          ]
        }
      ]
    },
    {
      "cell_type": "markdown",
      "source": [
        "## Exercise 2: *Python as a calculator*"
      ],
      "metadata": {
        "id": "fF-ZXGw89n_G"
      }
    },
    {
      "cell_type": "code",
      "source": [
        "# Add 19 and 17\n",
        "print(19 + 17)\n",
        "\n",
        "# Subtract 12 from 99\n",
        "print(99 - 12)"
      ],
      "metadata": {
        "colab": {
          "base_uri": "https://localhost:8080/"
        },
        "id": "9jZY5Yjl9vje",
        "outputId": "5159e53c-db73-424d-e9d4-c42443d47e32"
      },
      "execution_count": 2,
      "outputs": [
        {
          "output_type": "stream",
          "name": "stdout",
          "text": [
            "36\n",
            "87\n"
          ]
        }
      ]
    },
    {
      "cell_type": "markdown",
      "source": [
        "## Exercise 3: *More Calculations*"
      ],
      "metadata": {
        "id": "5VgpkaqY-CP1"
      }
    },
    {
      "cell_type": "code",
      "source": [
        "# Calculate and print 9 multiplied by 2\n",
        "print(9 * 2)\n",
        "\n",
        "# Print the result of dividing 120 by 12\n",
        "print(120 / 12)"
      ],
      "metadata": {
        "id": "3GwAUz2--Ais"
      },
      "execution_count": null,
      "outputs": []
    },
    {
      "cell_type": "markdown",
      "source": [
        "## Exercise 4: *Working with number variables*"
      ],
      "metadata": {
        "id": "v3sojM84_CPk"
      }
    },
    {
      "cell_type": "code",
      "source": [
        "# Age of a customer\n",
        "customer_age = 27\n",
        "\n",
        "# Create account_balance variable\n",
        "account_balance= 120.50\n",
        "\n",
        "# Print account_balance\n",
        "print(account_balance)"
      ],
      "metadata": {
        "colab": {
          "base_uri": "https://localhost:8080/"
        },
        "id": "HnvN-hPG_BKt",
        "outputId": "55ec0faa-a99f-4c1c-d923-c015c0636818"
      },
      "execution_count": 4,
      "outputs": [
        {
          "output_type": "stream",
          "name": "stdout",
          "text": [
            "120.5\n"
          ]
        }
      ]
    },
    {
      "cell_type": "markdown",
      "source": [
        "##Exercise 5: *Updating variable values*"
      ],
      "metadata": {
        "id": "MH0W9Je1ATrW"
      }
    },
    {
      "cell_type": "code",
      "source": [
        "account_balance = 20000.00\n",
        "is_millionaire = False\n",
        "\n",
        "# Update account balance\n",
        "account_balance = 1300000.00\n",
        "# Update is_millionaire variable\n",
        "is_millionaire= True\n",
        "\n",
        "print(account_balance)\n",
        "print(is_millionaire)"
      ],
      "metadata": {
        "colab": {
          "base_uri": "https://localhost:8080/"
        },
        "id": "aTBU-tIfAkBO",
        "outputId": "55c4098e-1ea6-4083-fb46-86941fa7f186"
      },
      "execution_count": 3,
      "outputs": [
        {
          "output_type": "stream",
          "name": "stdout",
          "text": [
            "1300000.0\n",
            "True\n"
          ]
        }
      ]
    },
    {
      "cell_type": "markdown",
      "source": [
        "## Exercise 6: *Checking data types*"
      ],
      "metadata": {
        "id": "Ob1rUv-OBENi"
      }
    },
    {
      "cell_type": "code",
      "source": [
        "customer_age = 49\n",
        "\n",
        "# Print the data type of customer_age\n",
        "print(type(customer_age))\n",
        "print(type(is_millionaire))\n",
        "print(type(account_balance))"
      ],
      "metadata": {
        "id": "dvQC7_lBBAzH"
      },
      "execution_count": null,
      "outputs": []
    }
  ]
}